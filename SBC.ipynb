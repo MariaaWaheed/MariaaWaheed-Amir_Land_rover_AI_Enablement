{
 "cells": [
  {
   "cell_type": "code",
   "execution_count": null,
   "id": "885e6890-1e31-4dba-8af2-28c4542a3aa7",
   "metadata": {},
   "outputs": [],
   "source": []
  },
  {
   "cell_type": "code",
   "execution_count": 10,
   "id": "a380603b-d0ea-4acb-8dfe-aeedd088207d",
   "metadata": {},
   "outputs": [
    {
     "data": {
      "text/plain": [
       "'\\nmodel11 = YOLO(\"yolov8n.pt\")  # load a pretrained model (recommended for training)\\n\\n# Use the model\\nmodel11.train(data=\"coco128.yaml\", epochs=3)  # train the model\\nmetrics = model11.val()  # evaluate model performance on the validation set\\nresults = model11(\"https://ultralytics.com/images/bus.jpg\")  # predict on an image\\npath = model11.export(format=\"onnx\")  # export the model to ONNX format\\n'"
      ]
     },
     "execution_count": 10,
     "metadata": {},
     "output_type": "execute_result"
    }
   ],
   "source": [
    "from ultralytics import YOLO\n",
    "\n",
    "\"\"\"\n",
    "model11 = YOLO(\"yolov8n.pt\")  # load a pretrained model (recommended for training)\n",
    "\n",
    "# Use the model\n",
    "model11.train(data=\"coco128.yaml\", epochs=3)  # train the model\n",
    "metrics = model11.val()  # evaluate model performance on the validation set\n",
    "results = model11(\"https://ultralytics.com/images/bus.jpg\")  # predict on an image\n",
    "path = model11.export(format=\"onnx\")  # export the model to ONNX format\n",
    "\"\"\""
   ]
  },
  {
   "cell_type": "code",
   "execution_count": null,
   "id": "10347e17-f0ce-4c43-b058-5148da090cd6",
   "metadata": {},
   "outputs": [],
   "source": []
  },
  {
   "cell_type": "code",
   "execution_count": 14,
   "id": "ba4adad2-3c09-48aa-a3d9-5f88358b0211",
   "metadata": {},
   "outputs": [
    {
     "name": "stdout",
     "output_type": "stream",
     "text": [
      "\n",
      "0: 480x640 2 persons, 1 car, 128.0ms\n",
      "Speed: 4.0ms preprocess, 128.0ms inference, 2.0ms postprocess per image at shape (1, 3, 480, 640)\n",
      "Results saved to \u001b[1mruns\\detect\\predict3\u001b[0m\n",
      "1 label saved to runs\\detect\\predict3\\labels\n"
     ]
    }
   ],
   "source": [
    "import cv2\n",
    "from PIL import Image\n",
    "\n",
    "from ultralytics import YOLO\n",
    "\n",
    "model = YOLO(\"yolov8n.pt\")\n",
    "# accepts all formats - image/dir/Path/URL/video/PIL/ndarray. 0 for webcam\n",
    "#results = model.predict(source=\"0\")\n",
    "\n",
    "\n",
    "# from ndarray\n",
    "im2 = cv2.imread(\"D:\\\\core9_work\\\\Amir's Land rover AI Enablement\\\\picture\\\\Afriforum-repairing-potholes.jpg\")\n",
    "results = model.predict(source=im2, save=True, save_txt=True)  # save predictions as labels"
   ]
  },
  {
   "cell_type": "code",
   "execution_count": null,
   "id": "0f648b37-f384-4e50-8132-8b2fd1834138",
   "metadata": {},
   "outputs": [],
   "source": []
  },
  {
   "cell_type": "code",
   "execution_count": 15,
   "id": "784dff32-c4eb-49e3-b9ac-be72235ad91a",
   "metadata": {
    "scrolled": true
   },
   "outputs": [
    {
     "data": {
      "text/plain": [
       "[ultralytics.engine.results.Results object with attributes:\n",
       " \n",
       " boxes: ultralytics.engine.results.Boxes object\n",
       " keypoints: None\n",
       " masks: None\n",
       " names: {0: 'person', 1: 'bicycle', 2: 'car', 3: 'motorcycle', 4: 'airplane', 5: 'bus', 6: 'train', 7: 'truck', 8: 'boat', 9: 'traffic light', 10: 'fire hydrant', 11: 'stop sign', 12: 'parking meter', 13: 'bench', 14: 'bird', 15: 'cat', 16: 'dog', 17: 'horse', 18: 'sheep', 19: 'cow', 20: 'elephant', 21: 'bear', 22: 'zebra', 23: 'giraffe', 24: 'backpack', 25: 'umbrella', 26: 'handbag', 27: 'tie', 28: 'suitcase', 29: 'frisbee', 30: 'skis', 31: 'snowboard', 32: 'sports ball', 33: 'kite', 34: 'baseball bat', 35: 'baseball glove', 36: 'skateboard', 37: 'surfboard', 38: 'tennis racket', 39: 'bottle', 40: 'wine glass', 41: 'cup', 42: 'fork', 43: 'knife', 44: 'spoon', 45: 'bowl', 46: 'banana', 47: 'apple', 48: 'sandwich', 49: 'orange', 50: 'broccoli', 51: 'carrot', 52: 'hot dog', 53: 'pizza', 54: 'donut', 55: 'cake', 56: 'chair', 57: 'couch', 58: 'potted plant', 59: 'bed', 60: 'dining table', 61: 'toilet', 62: 'tv', 63: 'laptop', 64: 'mouse', 65: 'remote', 66: 'keyboard', 67: 'cell phone', 68: 'microwave', 69: 'oven', 70: 'toaster', 71: 'sink', 72: 'refrigerator', 73: 'book', 74: 'clock', 75: 'vase', 76: 'scissors', 77: 'teddy bear', 78: 'hair drier', 79: 'toothbrush'}\n",
       " obb: None\n",
       " orig_img: array([[[194, 208, 206],\n",
       "         [139, 153, 151],\n",
       "         [ 72,  86,  84],\n",
       "         ...,\n",
       "         [ 31,  37,  32],\n",
       "         [ 30,  36,  31],\n",
       "         [ 28,  34,  29]],\n",
       " \n",
       "        [[173, 187, 185],\n",
       "         [130, 144, 142],\n",
       "         [ 74,  88,  86],\n",
       "         ...,\n",
       "         [ 31,  37,  32],\n",
       "         [ 30,  36,  31],\n",
       "         [ 28,  34,  29]],\n",
       " \n",
       "        [[141, 155, 153],\n",
       "         [115, 129, 127],\n",
       "         [ 79,  93,  91],\n",
       "         ...,\n",
       "         [ 31,  37,  32],\n",
       "         [ 30,  36,  31],\n",
       "         [ 28,  34,  29]],\n",
       " \n",
       "        ...,\n",
       " \n",
       "        [[ 77,  75,  81],\n",
       "         [ 77,  75,  81],\n",
       "         [ 78,  76,  82],\n",
       "         ...,\n",
       "         [170, 184, 202],\n",
       "         [170, 184, 202],\n",
       "         [170, 184, 202]],\n",
       " \n",
       "        [[ 77,  75,  81],\n",
       "         [ 78,  76,  82],\n",
       "         [ 79,  77,  83],\n",
       "         ...,\n",
       "         [170, 185, 201],\n",
       "         [170, 185, 201],\n",
       "         [170, 185, 201]],\n",
       " \n",
       "        [[ 78,  76,  82],\n",
       "         [ 79,  77,  83],\n",
       "         [ 80,  78,  84],\n",
       "         ...,\n",
       "         [170, 185, 201],\n",
       "         [170, 185, 201],\n",
       "         [170, 185, 201]]], dtype=uint8)\n",
       " orig_shape: (1600, 2133)\n",
       " path: 'image0.jpg'\n",
       " probs: None\n",
       " save_dir: 'runs\\\\detect\\\\predict3'\n",
       " speed: {'preprocess': 4.00233268737793, 'inference': 127.99739837646484, 'postprocess': 2.000570297241211}]"
      ]
     },
     "execution_count": 15,
     "metadata": {},
     "output_type": "execute_result"
    }
   ],
   "source": [
    "results"
   ]
  },
  {
   "cell_type": "code",
   "execution_count": null,
   "id": "70b9c7bc-22e8-4f6c-94bd-9251eb859dff",
   "metadata": {},
   "outputs": [],
   "source": []
  },
  {
   "cell_type": "code",
   "execution_count": null,
   "id": "db14d542-fbe2-4a45-bde3-dd8b4946695a",
   "metadata": {},
   "outputs": [],
   "source": []
  },
  {
   "cell_type": "code",
   "execution_count": null,
   "id": "fcf76d7e-cfd5-4c07-9e0e-56a1fcd30195",
   "metadata": {},
   "outputs": [],
   "source": []
  },
  {
   "cell_type": "code",
   "execution_count": null,
   "id": "054a5f7d-94d8-493d-bf88-154fe36a6d17",
   "metadata": {},
   "outputs": [],
   "source": []
  },
  {
   "cell_type": "code",
   "execution_count": null,
   "id": "ab548540-c381-431d-ae11-0997da50db65",
   "metadata": {},
   "outputs": [],
   "source": []
  },
  {
   "cell_type": "code",
   "execution_count": null,
   "id": "1a0e70cd-56e3-4247-b770-e1f29f98e972",
   "metadata": {},
   "outputs": [],
   "source": []
  }
 ],
 "metadata": {
  "kernelspec": {
   "display_name": "llm_2",
   "language": "python",
   "name": "llm_2"
  },
  "language_info": {
   "codemirror_mode": {
    "name": "ipython",
    "version": 3
   },
   "file_extension": ".py",
   "mimetype": "text/x-python",
   "name": "python",
   "nbconvert_exporter": "python",
   "pygments_lexer": "ipython3",
   "version": "3.8.19"
  }
 },
 "nbformat": 4,
 "nbformat_minor": 5
}
