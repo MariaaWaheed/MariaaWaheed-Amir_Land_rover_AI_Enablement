{
 "cells": [
  {
   "cell_type": "code",
   "execution_count": 25,
   "id": "93bcbec1",
   "metadata": {},
   "outputs": [],
   "source": [
    "import os\n",
    "import openai\n",
    "from langchain.llms import OpenAI\n",
    "from langchain.chat_models import ChatOpenAI\n",
    "from langchain.embeddings import OpenAIEmbeddings\n",
    "from langchain.prompts import ChatPromptTemplate\n",
    "from langchain.chains import LLMChain\n",
    "from langchain.chains import SimpleSequentialChain\n",
    "from langchain.memory import ConversationSummaryBufferMemory\n",
    "from langchain.chains import ConversationChain\n",
    "\n",
    "from langchain.output_parsers import ResponseSchema\n",
    "from langchain.output_parsers import StructuredOutputParser"
   ]
  },
  {
   "cell_type": "code",
   "execution_count": 26,
   "id": "45e6e237",
   "metadata": {},
   "outputs": [],
   "source": [
    "#!pip install langchain[all]"
   ]
  },
  {
   "cell_type": "code",
   "execution_count": 27,
   "id": "bbf06f24",
   "metadata": {},
   "outputs": [],
   "source": [
    "#!pip install openai"
   ]
  },
  {
   "cell_type": "code",
   "execution_count": 28,
   "id": "2dda4d0d",
   "metadata": {},
   "outputs": [],
   "source": [
    "#!pip install python-dotenv"
   ]
  },
  {
   "cell_type": "code",
   "execution_count": 29,
   "id": "953b0621",
   "metadata": {},
   "outputs": [],
   "source": [
    "#!pip install openai"
   ]
  },
  {
   "cell_type": "code",
   "execution_count": 30,
   "id": "7975f858",
   "metadata": {},
   "outputs": [],
   "source": [
    "#openai.api_key = os.getenv(\"OPENAI_API_KEY\")"
   ]
  },
  {
   "cell_type": "code",
   "execution_count": 31,
   "id": "b7433eb3-a05b-43e1-87d5-05c966c685e8",
   "metadata": {},
   "outputs": [],
   "source": [
    "OPENAI_API_KEY=\"sk-proj-quT9b8YF3yeHMS37pAIZT3BlbkFJXjidf23DXOGMevFudGMl\""
   ]
  },
  {
   "cell_type": "code",
   "execution_count": 32,
   "id": "8eb843c9",
   "metadata": {},
   "outputs": [],
   "source": [
    "# account for deprecation of LLM model\n",
    "import datetime\n",
    "# Get the current date\n",
    "current_date = datetime.datetime.now().date()\n",
    "\n",
    "# Define the date after which the model should be set to \"gpt-3.5-turbo\"\n",
    "target_date = datetime.date(2024, 6, 12)\n",
    "\n",
    "# Set the model variable based on the current date\n",
    "if current_date > target_date:\n",
    "    llm_model = \"gpt-3.5-turbo\"\n",
    "else:\n",
    "    llm_model = \"gpt-3.5-turbo-0301\""
   ]
  },
  {
   "cell_type": "code",
   "execution_count": 33,
   "id": "6c7972bf",
   "metadata": {},
   "outputs": [],
   "source": [
    "llm = ChatOpenAI(temperature=0.7, model=llm_model, api_key=OPENAI_API_KEY)"
   ]
  },
  {
   "cell_type": "code",
   "execution_count": null,
   "id": "cb427f8c",
   "metadata": {},
   "outputs": [],
   "source": []
  },
  {
   "cell_type": "code",
   "execution_count": null,
   "id": "5141097b",
   "metadata": {},
   "outputs": [],
   "source": []
  },
  {
   "cell_type": "code",
   "execution_count": 34,
   "id": "d5ccb990",
   "metadata": {},
   "outputs": [
    {
     "name": "stdin",
     "output_type": "stream",
     "text": [
      "Enter A Broad Topic To Get Related Topic Ideas For Presentation:  animals\n"
     ]
    },
    {
     "name": "stdout",
     "output_type": "stream",
     "text": [
      "```json\n",
      "{\n",
      "\t\"Topic\": \"animals\"\n",
      "}\n",
      "```\n",
      "```json\n",
      "{\n",
      "\t\"Topic\": \"animals\",\n",
      "\t\"1\": \"Endangered Species\",\n",
      "\t\"2\": \"Animal Behavior\",\n",
      "\t\"3\": \"Animal Rights\",\n",
      "\t\"4\": \"Animal Intelligence\",\n",
      "\t\"5\": \"Animal Adaptations\"\n",
      "}\n",
      "```\n"
     ]
    }
   ],
   "source": [
    "content_schema = ResponseSchema(name=\"Topic\",description=\"what keywords or Broad topic did the user pick\")\n",
    "response_schemas = [content_schema]\n",
    "output_parser = StructuredOutputParser.from_response_schemas(response_schemas)\n",
    "format_instructions = output_parser.get_format_instructions()\n",
    "#print(format_instructions)\n",
    "\n",
    "users_input=str(input(\"Enter A Broad Topic To Get Related Topic Ideas For Presentation: \"))\n",
    "\n",
    "\n",
    "user_prompt_template= ChatPromptTemplate.from_template(\n",
    "\"\"\"For the following text, extract the Broad Topic  To Get Related Topic Ideas For Presentation:\n",
    "text: {text}\n",
    "{format_instructions}\n",
    "\"\"\"\n",
    ")\n",
    "\n",
    "messages = user_prompt_template.format_messages(text=users_input, \n",
    "                                format_instructions=format_instructions)\n",
    "chat = ChatOpenAI(temperature=0.0, model=llm_model,api_key=OPENAI_API_KEY)\n",
    "response = chat(messages)\n",
    "\n",
    "print(response.content)\n",
    "output_dict = output_parser.parse(response.content)\n",
    "\n",
    "\n",
    "prompt_template = ChatPromptTemplate.from_template(\n",
    "    \"\"\" Given this Broad Topic:{content}, generate 5 sub-topics good for making presentation by prompt,\\\n",
    "    and answer only in dictionary format in Python the keys should be 1,2,3,4,5 and the value should be topics only\\\n",
    "    ~~Only generate the dictionary and nothing else ~~.\n",
    "    {format_instructions}\n",
    "    \"\"\"\n",
    ")\n",
    "\n",
    "llm_messages = prompt_template.format_messages(content=output_dict['Topic'],format_instructions=format_instructions)\n",
    "response = chat(llm_messages)\n",
    "\n",
    "print(response.content)\n",
    "output_dict = output_parser.parse(response.content)"
   ]
  },
  {
   "cell_type": "code",
   "execution_count": null,
   "id": "272bdb92",
   "metadata": {},
   "outputs": [],
   "source": []
  },
  {
   "cell_type": "code",
   "execution_count": null,
   "id": "50633413",
   "metadata": {},
   "outputs": [],
   "source": []
  },
  {
   "cell_type": "code",
   "execution_count": null,
   "id": "767645d7",
   "metadata": {},
   "outputs": [],
   "source": []
  },
  {
   "cell_type": "code",
   "execution_count": null,
   "id": "7f95748f",
   "metadata": {},
   "outputs": [],
   "source": []
  },
  {
   "cell_type": "code",
   "execution_count": null,
   "id": "20acce64-f15c-49d7-a8db-55c86675fe2b",
   "metadata": {},
   "outputs": [],
   "source": []
  },
  {
   "cell_type": "code",
   "execution_count": null,
   "id": "1fb3a65b-5621-49a1-a7b5-a84d8d637941",
   "metadata": {},
   "outputs": [],
   "source": []
  },
  {
   "cell_type": "code",
   "execution_count": null,
   "id": "ab875899-87b2-430e-9864-6dab7c8f9cf1",
   "metadata": {},
   "outputs": [],
   "source": []
  },
  {
   "cell_type": "code",
   "execution_count": null,
   "id": "d22fc816-3966-4ecd-9155-04ceb7d250ea",
   "metadata": {},
   "outputs": [],
   "source": []
  },
  {
   "cell_type": "code",
   "execution_count": null,
   "id": "76466e3e-8fe9-4082-8717-6aeefb613a40",
   "metadata": {},
   "outputs": [],
   "source": []
  },
  {
   "cell_type": "code",
   "execution_count": null,
   "id": "d7119e91-1915-400a-9c69-dc6205bf80c2",
   "metadata": {},
   "outputs": [],
   "source": []
  },
  {
   "cell_type": "code",
   "execution_count": null,
   "id": "dea203eb-8387-462f-8b55-d6b55cc039ed",
   "metadata": {},
   "outputs": [],
   "source": []
  },
  {
   "cell_type": "code",
   "execution_count": null,
   "id": "26ea9d2b",
   "metadata": {},
   "outputs": [],
   "source": []
  },
  {
   "cell_type": "code",
   "execution_count": null,
   "id": "bbbcfa67",
   "metadata": {},
   "outputs": [],
   "source": []
  },
  {
   "cell_type": "code",
   "execution_count": null,
   "id": "f10c8d89",
   "metadata": {},
   "outputs": [],
   "source": []
  },
  {
   "cell_type": "code",
   "execution_count": null,
   "id": "54854f13",
   "metadata": {},
   "outputs": [],
   "source": []
  },
  {
   "cell_type": "code",
   "execution_count": null,
   "id": "3871bc10",
   "metadata": {},
   "outputs": [],
   "source": []
  },
  {
   "cell_type": "code",
   "execution_count": null,
   "id": "65ac76b4",
   "metadata": {},
   "outputs": [],
   "source": []
  }
 ],
 "metadata": {
  "kernelspec": {
   "display_name": "llm_2",
   "language": "python",
   "name": "llm_2"
  },
  "language_info": {
   "codemirror_mode": {
    "name": "ipython",
    "version": 3
   },
   "file_extension": ".py",
   "mimetype": "text/x-python",
   "name": "python",
   "nbconvert_exporter": "python",
   "pygments_lexer": "ipython3",
   "version": "3.8.19"
  }
 },
 "nbformat": 4,
 "nbformat_minor": 5
}
