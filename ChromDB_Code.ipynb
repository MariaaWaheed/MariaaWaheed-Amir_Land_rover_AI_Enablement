{
 "cells": [
  {
   "cell_type": "code",
   "execution_count": null,
   "id": "f5dc8753",
   "metadata": {},
   "outputs": [],
   "source": [
    "from langchain.vectorstores import Chroma\n",
    "from langchain.vectorstores.base import VectorStoreRetriever\n",
    "#vectordb = Chroma.from_documents(lc_all_docs, embedding_function, persist_directory=\"./chroma_dbf2\")\n",
    "#vectordb = = Chroma(persist_directory=\"./chroma_db2\", embedding_function=embedding_function) #load"
   ]
  },
  {
   "cell_type": "code",
   "execution_count": null,
   "id": "e135e13b",
   "metadata": {},
   "outputs": [],
   "source": [
    "vectordb =  Chroma(persist_directory=\"./chroma_dbf3\", embedding_function=embedding_function)"
   ]
  },
  {
   "cell_type": "code",
   "execution_count": null,
   "id": "f09b6554",
   "metadata": {},
   "outputs": [],
   "source": []
  },
  {
   "cell_type": "code",
   "execution_count": null,
   "id": "b40069b7",
   "metadata": {},
   "outputs": [],
   "source": [
    "from langchain.embeddings import OpenAIEmbeddings\n",
    "\n",
    "embedding_function = OpenAIEmbeddings()"
   ]
  },
  {
   "cell_type": "code",
   "execution_count": null,
   "id": "3d6c1d79",
   "metadata": {},
   "outputs": [],
   "source": []
  },
  {
   "cell_type": "code",
   "execution_count": null,
   "id": "5030b43a",
   "metadata": {},
   "outputs": [],
   "source": [
    "metad = {  'article_id': document['_id'], 'folder': document['folder'],'date':int(document['date'].strftime('%Y%m%d')),'textfile':document['textfile'] }\n",
    "docis = [  Document(page_content='This is the text', metadata=metad)  ]\n",
    "lc_all_docs = []\n",
    "lc_all_docs += docis"
   ]
  },
  {
   "cell_type": "code",
   "execution_count": null,
   "id": "d6d5832f",
   "metadata": {},
   "outputs": [],
   "source": [
    "vectordb = Chroma.from_documents(lc_all_docs, embedding_function, persist_directory=\"./chroma_dbf3\")"
   ]
  },
  {
   "cell_type": "code",
   "execution_count": null,
   "id": "cff6b984",
   "metadata": {},
   "outputs": [],
   "source": []
  },
  {
   "cell_type": "code",
   "execution_count": null,
   "id": "75feb8fe",
   "metadata": {},
   "outputs": [],
   "source": [
    "len(vectordb.get()['documents'])"
   ]
  },
  {
   "cell_type": "code",
   "execution_count": null,
   "id": "6592f9e1",
   "metadata": {},
   "outputs": [],
   "source": [
    "#vectordb.get(where={\"folder\":\"cpi\"  },include=['embeddings', 'documents', 'metadatas'])"
   ]
  },
  {
   "cell_type": "code",
   "execution_count": null,
   "id": "2c0e4aa2",
   "metadata": {},
   "outputs": [],
   "source": [
    "filter_query = {'$and': [{'date': {'$gte': 20180101}}, {'date': {'$lte': 20181231}}, {'folder': {'$eq': 'gdp'}}]}"
   ]
  },
  {
   "cell_type": "code",
   "execution_count": null,
   "id": "e03625cb",
   "metadata": {},
   "outputs": [],
   "source": [
    "K=5\n",
    "chroma_retriever = VectorStoreRetriever(vectorstore=vectordb, search_kwargs={\"filter\":filter_query,\"k\":K},)\n",
    "retrieved_docs = chroma_retriever.get_relevant_documents(question_prompt)\n",
    "print(len(retrieved_docs))"
   ]
  },
  {
   "cell_type": "code",
   "execution_count": null,
   "id": "ac74fd31",
   "metadata": {},
   "outputs": [],
   "source": [
    "retrieved_docs[0].metadata"
   ]
  },
  {
   "cell_type": "code",
   "execution_count": null,
   "id": "49513093",
   "metadata": {},
   "outputs": [],
   "source": [
    "retrieved_docs[0].page_content"
   ]
  },
  {
   "cell_type": "code",
   "execution_count": null,
   "id": "05a0318b",
   "metadata": {},
   "outputs": [],
   "source": []
  }
 ],
 "metadata": {
  "kernelspec": {
   "display_name": "llm_2",
   "language": "python",
   "name": "llm_2"
  },
  "language_info": {
   "codemirror_mode": {
    "name": "ipython",
    "version": 3
   },
   "file_extension": ".py",
   "mimetype": "text/x-python",
   "name": "python",
   "nbconvert_exporter": "python",
   "pygments_lexer": "ipython3",
   "version": "3.8.19"
  }
 },
 "nbformat": 4,
 "nbformat_minor": 5
}
