{
 "cells": [
  {
   "cell_type": "code",
   "execution_count": 1,
   "id": "6189c7d1-ed39-4f61-95c7-f2684b35df73",
   "metadata": {},
   "outputs": [
    {
     "name": "stderr",
     "output_type": "stream",
     "text": [
      "C:\\Users\\Maria Waheed\\anaconda3\\envs\\llm_2\\lib\\site-packages\\langchain_core\\_api\\deprecation.py:139: LangChainDeprecationWarning: The class `HuggingFaceEmbeddings` was deprecated in LangChain 0.2.2 and will be removed in 0.3.0. An updated version of the class exists in the langchain-huggingface package and should be used instead. To use it run `pip install -U langchain-huggingface` and import as `from langchain_huggingface import HuggingFaceEmbeddings`.\n",
      "  warn_deprecated(\n"
     ]
    }
   ],
   "source": [
    "from langchain.output_parsers import ResponseSchema\n",
    "from langchain.output_parsers import StructuredOutputParser\n",
    "from langchain.output_parsers import StructuredOutputParser, ResponseSchema\n",
    "from langchain.prompts import PromptTemplate, ChatPromptTemplate, HumanMessagePromptTemplate\n",
    "from langchain.llms import OpenAI\n",
    "from langchain.chat_models import ChatOpenAI\n",
    "import os\n",
    "import openai\n",
    "from langchain.llms import OpenAI\n",
    "from langchain.chat_models import ChatOpenAI\n",
    "from langchain.embeddings import OpenAIEmbeddings\n",
    "from langchain.prompts import ChatPromptTemplate\n",
    "from langchain.chains import LLMChain\n",
    "from langchain.chains import SimpleSequentialChain\n",
    "from langchain.memory import ConversationSummaryBufferMemory\n",
    "from langchain.chains import ConversationChain\n",
    "\n",
    "from langchain.output_parsers import ResponseSchema\n",
    "from langchain.output_parsers import StructuredOutputParser\n",
    "from langchain.vectorstores import Chroma\n",
    "from datetime import datetime\n",
    "from langchain.schema import Document\n",
    "from langchain_community.embeddings.sentence_transformer import (SentenceTransformerEmbeddings,)\n",
    "embedding_function = SentenceTransformerEmbeddings(model_name=\"all-MiniLM-L6-v2\")\n",
    "from langchain.vectorstores.base import VectorStoreRetriever\n",
    "from langchain.chains import ConversationalRetrievalChain"
   ]
  },
  {
   "cell_type": "code",
   "execution_count": null,
   "id": "d5cff0d2-136e-433e-9234-e3a2743a6364",
   "metadata": {},
   "outputs": [],
   "source": []
  },
  {
   "cell_type": "code",
   "execution_count": null,
   "id": "e9e6f92c-d4e5-4cf2-97ae-728b8230a3bc",
   "metadata": {},
   "outputs": [],
   "source": []
  },
  {
   "cell_type": "code",
   "execution_count": null,
   "id": "1cac3d26-f45d-406b-9fa6-d7841c4721dc",
   "metadata": {},
   "outputs": [],
   "source": []
  },
  {
   "cell_type": "code",
   "execution_count": 2,
   "id": "edcf0e80-3e8d-4df0-b46b-df5e7b8a32ec",
   "metadata": {},
   "outputs": [],
   "source": [
    "vectorstore_load=Chroma(persist_directory=\"./chromadb_data_v1\", embedding_function=embedding_function)"
   ]
  },
  {
   "cell_type": "code",
   "execution_count": 3,
   "id": "47912cad-33d2-4474-a7c2-a9550618911e",
   "metadata": {},
   "outputs": [
    {
     "data": {
      "text/plain": [
       "205"
      ]
     },
     "execution_count": 3,
     "metadata": {},
     "output_type": "execute_result"
    }
   ],
   "source": [
    "len(vectorstore_load.get()['documents'])"
   ]
  },
  {
   "cell_type": "code",
   "execution_count": null,
   "id": "3d3cb102-b233-4ef9-a55b-9e1876a55533",
   "metadata": {},
   "outputs": [],
   "source": []
  },
  {
   "cell_type": "code",
   "execution_count": null,
   "id": "d0260ebe-f54f-4604-a5fd-c1dbce8c9e77",
   "metadata": {},
   "outputs": [],
   "source": []
  },
  {
   "cell_type": "code",
   "execution_count": 4,
   "id": "3dc94e6a-5da7-417c-b6d1-53710563a832",
   "metadata": {},
   "outputs": [
    {
     "name": "stderr",
     "output_type": "stream",
     "text": [
      "C:\\Users\\Maria Waheed\\anaconda3\\envs\\llm_2\\lib\\site-packages\\langchain_core\\_api\\deprecation.py:139: LangChainDeprecationWarning: The class `ChatOpenAI` was deprecated in LangChain 0.0.10 and will be removed in 0.3.0. An updated version of the class exists in the langchain-openai package and should be used instead. To use it run `pip install -U langchain-openai` and import as `from langchain_openai import ChatOpenAI`.\n",
      "  warn_deprecated(\n"
     ]
    }
   ],
   "source": [
    "openai.api_key = os.getenv(\"OPENAI_API_KEY\")\n",
    "# account for deprecation of LLM model\n",
    "import datetime\n",
    "# Get the current date\n",
    "current_date = datetime.datetime.now().date()\n",
    "\n",
    "# Define the date after which the model should be set to \"gpt-3.5-turbo\"\n",
    "target_date = datetime.date(2024, 6, 12)\n",
    "\n",
    "# Set the model variable based on the current date\n",
    "if current_date > target_date:\n",
    "    llm_model = \"gpt-3.5-turbo\"\n",
    "else:\n",
    "    llm_model = \"gpt-3.5-turbo-0301\"\n",
    "\n",
    "llm = ChatOpenAI(temperature=0.7, model=llm_model, api_key=openai.api_key)"
   ]
  },
  {
   "cell_type": "code",
   "execution_count": null,
   "id": "ee51c657-6279-4c80-b4e7-8cde25459555",
   "metadata": {},
   "outputs": [],
   "source": []
  },
  {
   "cell_type": "code",
   "execution_count": 5,
   "id": "12ae9574-1b0a-42dd-a253-7bba1db4c921",
   "metadata": {},
   "outputs": [
    {
     "name": "stdin",
     "output_type": "stream",
     "text": [
      "How can I help:  what happened around 12:30\n"
     ]
    },
    {
     "name": "stderr",
     "output_type": "stream",
     "text": [
      "C:\\Users\\Maria Waheed\\anaconda3\\envs\\llm_2\\lib\\site-packages\\langchain_core\\_api\\deprecation.py:139: LangChainDeprecationWarning: The method `BaseChatModel.__call__` was deprecated in langchain-core 0.1.7 and will be removed in 0.3.0. Use invoke instead.\n",
      "  warn_deprecated(\n"
     ]
    },
    {
     "name": "stdout",
     "output_type": "stream",
     "text": [
      "```json\n",
      "{\n",
      "\t\"output\": {\n",
      "\t\t\"date\": null,\n",
      "\t\t\"time\": \"12:30\",\n",
      "\t\t\"info\": \"what happened around\"\n",
      "\t}\n",
      "}\n",
      "```\n"
     ]
    }
   ],
   "source": [
    "# Get user input\n",
    "content_schema = ResponseSchema(name=\"output\",description=\"\"\" The output should be in a JSON/dictionary format the keys should be {\"date\":\"\", \"time\":\"\", \"info\":\"\"} \"\"\")\n",
    "response_schemas = [content_schema]\n",
    "output_parser = StructuredOutputParser.from_response_schemas(response_schemas)\n",
    "format_instructions = output_parser.get_format_instructions()\n",
    "\n",
    "user_input = input(\"How can I help: \")\n",
    "\n",
    "chat = ChatOpenAI(temperature=0.0, model=llm_model,api_key=openai.api_key)\n",
    "prompt_template = ChatPromptTemplate.from_template(\n",
    "   \"\"\" Given the user input find the date and time if not provided add null; convert it in time format remove PM or AM if needed and if a time range is given pick the first time also extract the insight if any is provided:\n",
    "   Following is the given content{content}\n",
    "   \n",
    "    ~~Only generate the dictionary and nothing else~~.\n",
    "    {format_instructions}\n",
    "    \"\"\"\n",
    ")\n",
    "\n",
    "llm_messages = prompt_template.format_messages(content=user_input, format_instructions=format_instructions)\n",
    "response = chat(llm_messages)\n",
    "\n",
    "print(response.content)\n",
    "output_dict = output_parser.parse(response.content)"
   ]
  },
  {
   "cell_type": "code",
   "execution_count": null,
   "id": "f31e0056-44ac-4d52-be77-1a6d1f77b938",
   "metadata": {},
   "outputs": [],
   "source": []
  },
  {
   "cell_type": "code",
   "execution_count": 13,
   "id": "49b58021-9e10-4198-96a7-23178979d4ac",
   "metadata": {},
   "outputs": [],
   "source": []
  },
  {
   "cell_type": "code",
   "execution_count": 7,
   "id": "bb05f38f-69c7-4142-b1bc-d853cb836eb1",
   "metadata": {
    "scrolled": true
   },
   "outputs": [
    {
     "name": "stdout",
     "output_type": "stream",
     "text": [
      "Start time: 12:20, End time: 12:40\n"
     ]
    }
   ],
   "source": [
    "time_str=output_dict[\"output\"][\"time\"]\n",
    "from datetime import datetime, timedelta\n",
    "try:\n",
    "        time_obj = datetime.strptime(time_str, \"%H:%M:%S\")\n",
    "except ValueError:\n",
    "    try:\n",
    "        time_obj = datetime.strptime(time_str, \"%H:%M\")\n",
    "    except ValueError:\n",
    "        try:\n",
    "            time_obj = datetime.strptime(time_str, \"%H\")\n",
    "        except ValueError:\n",
    "            raise ValueError(\"Invalid time format. Please provide time in the format 'HH', 'HH:MM', or 'HH:MM:SS'.\")\n",
    "\n",
    "start_time = time_obj - timedelta(minutes=10)\n",
    "end_time = time_obj + timedelta(minutes=10)\n",
    "\n",
    "# Format the times back to strings in 24-hour format\n",
    "start_time_str = start_time.strftime(\"%H:%M\")\n",
    "end_time_str = end_time.strftime(\"%H:%M\")\n",
    "\n",
    "print(f\"Start time: {start_time_str}, End time: {end_time_str}\") \n",
    "\n",
    "\n",
    "\n",
    "date_hardwork=\"2024-06-20\"\n",
    "def getIntFromDatetime(datetime_obj):\n",
    "    return int(datetime_obj.strftime('%Y%m%d'))"
   ]
  },
  {
   "cell_type": "code",
   "execution_count": null,
   "id": "c751a591-0434-45fd-8ade-d65c6d4c992f",
   "metadata": {},
   "outputs": [],
   "source": []
  },
  {
   "cell_type": "code",
   "execution_count": null,
   "id": "2a0be94d-a670-4397-b5e0-87d5d8f7f6e9",
   "metadata": {},
   "outputs": [],
   "source": []
  },
  {
   "cell_type": "code",
   "execution_count": null,
   "id": "0ca9da4b-a03c-46a6-ab70-a1a9ece67e4c",
   "metadata": {},
   "outputs": [],
   "source": []
  },
  {
   "cell_type": "code",
   "execution_count": 8,
   "id": "a6f65e91-d7ee-42b2-a364-d9c7bc8f8915",
   "metadata": {
    "scrolled": true
   },
   "outputs": [
    {
     "data": {
      "text/plain": [
       "'\\nK=10\\nend_time_loop = end_time + timedelta(minutes=1)\\ncounter= start_time\\nlist_documents_retrieved=[]\\n\\nwhile True:\\n    if counter< end_time_loop:\\n        chroma_retriever = VectorStoreRetriever(vectorstore=vectorstore_load, metadata={\"date\":output_dict[\"output\"][\"date\"],\"time\":counter ,\"k\":K},)\\n        retrieved_docs = chroma_retriever.get_relevant_documents(user_input)\\n        print(len(retrieved_docs))\\n        for doc in retrieved_docs:\\n            if doc not in list_documents_retrieved:\\n                list_documents_retrieved.append(doc)\\n    else:\\n        break\\n    counter = counter + timedelta(minutes=1)\\nprint(f\"Total documents retrieved: {len(list_documents_retrieved)}\")\\n'"
      ]
     },
     "execution_count": 8,
     "metadata": {},
     "output_type": "execute_result"
    }
   ],
   "source": [
    "\"\"\"\n",
    "K=10\n",
    "end_time_loop = end_time + timedelta(minutes=1)\n",
    "counter= start_time\n",
    "list_documents_retrieved=[]\n",
    "\n",
    "while True:\n",
    "    if counter< end_time_loop:\n",
    "        chroma_retriever = VectorStoreRetriever(vectorstore=vectorstore_load, metadata={\"date\":output_dict[\"output\"][\"date\"],\"time\":counter ,\"k\":K},)\n",
    "        retrieved_docs = chroma_retriever.get_relevant_documents(user_input)\n",
    "        print(len(retrieved_docs))\n",
    "        for doc in retrieved_docs:\n",
    "            if doc not in list_documents_retrieved:\n",
    "                list_documents_retrieved.append(doc)\n",
    "    else:\n",
    "        break\n",
    "    counter = counter + timedelta(minutes=1)\n",
    "print(f\"Total documents retrieved: {len(list_documents_retrieved)}\")\n",
    "\"\"\""
   ]
  },
  {
   "cell_type": "code",
   "execution_count": null,
   "id": "553d0342-f58d-45f0-89c5-5fb1931e84f4",
   "metadata": {},
   "outputs": [],
   "source": []
  },
  {
   "cell_type": "code",
   "execution_count": null,
   "id": "673293a0-ddb7-4d23-bd82-62daf38c4115",
   "metadata": {},
   "outputs": [],
   "source": []
  },
  {
   "cell_type": "code",
   "execution_count": null,
   "id": "757ba232-18b5-4a77-99ba-ce849d720dba",
   "metadata": {},
   "outputs": [],
   "source": []
  },
  {
   "cell_type": "code",
   "execution_count": 9,
   "id": "e8f569c2-0a02-425e-a85c-64d81df6ad04",
   "metadata": {},
   "outputs": [
    {
     "name": "stdout",
     "output_type": "stream",
     "text": [
      "Formatted time: 12:20:00\n",
      "Formatted time: 12:40:00\n",
      "2024-06-20 12:20:00 <<--->> 2024-06-20 12:40:00\n"
     ]
    }
   ],
   "source": [
    "str_formatted_time = datetime.strptime(start_time_str, \"%H:%M\").strftime(\"%H:%M:%S\")\n",
    "print(\"Formatted time:\", str_formatted_time)\n",
    "\n",
    "end_formatted_time = datetime.strptime(end_time_str, \"%H:%M\").strftime(\"%H:%M:%S\")\n",
    "print(\"Formatted time:\", end_formatted_time)\n",
    "\n",
    "# Combine the date and time\n",
    "str_date_time_str = f\"{date_hardwork} {str_formatted_time}\"\n",
    "end_date_time_str = f\"{date_hardwork} {end_formatted_time}\"\n",
    "# Create the datetime object\n",
    "start_date_time_obj = datetime.strptime(str_date_time_str, \"%Y-%m-%d %H:%M:%S\")\n",
    "end_date_time_obj = datetime.strptime(end_date_time_str, \"%Y-%m-%d %H:%M:%S\")\n",
    "print(start_date_time_obj,\"<<--->>\",end_date_time_obj)"
   ]
  },
  {
   "cell_type": "code",
   "execution_count": null,
   "id": "a9b4739c-66d2-4553-b017-6e3159d3f40c",
   "metadata": {},
   "outputs": [],
   "source": []
  },
  {
   "cell_type": "code",
   "execution_count": 10,
   "id": "d71e4e9f-f592-4a87-b9f9-a6157e2bf0ee",
   "metadata": {},
   "outputs": [
    {
     "name": "stdout",
     "output_type": "stream",
     "text": [
      "Timestamp_start: 1718868000.0\n",
      "Timestamp_end: 1718869200.0\n"
     ]
    }
   ],
   "source": [
    "timestamp_s = start_date_time_obj.timestamp()\n",
    "timestamp_e = end_date_time_obj.timestamp()\n",
    "print(\"Timestamp_start:\", timestamp_s)\n",
    "print(\"Timestamp_end:\", timestamp_e)"
   ]
  },
  {
   "cell_type": "code",
   "execution_count": null,
   "id": "9613f077-1fe0-4aec-a569-ab98f370b08a",
   "metadata": {},
   "outputs": [],
   "source": []
  },
  {
   "cell_type": "code",
   "execution_count": 16,
   "id": "020bf58d-a2b6-43fa-a099-41e93a8668c5",
   "metadata": {},
   "outputs": [
    {
     "data": {
      "text/plain": [
       "float"
      ]
     },
     "execution_count": 16,
     "metadata": {},
     "output_type": "execute_result"
    }
   ],
   "source": [
    "type(timestamp_s)"
   ]
  },
  {
   "cell_type": "code",
   "execution_count": null,
   "id": "2938a098-3a3c-4ad0-9148-5d007910b36a",
   "metadata": {},
   "outputs": [],
   "source": []
  },
  {
   "cell_type": "code",
   "execution_count": 11,
   "id": "3b935f01-0f46-4917-a430-a680983fab60",
   "metadata": {},
   "outputs": [],
   "source": [
    "filter_query = {'$and': [{'time_stamp': {'$gte': timestamp_s}}, {'time_stamp': {'$lte': timestamp_e}}]}"
   ]
  },
  {
   "cell_type": "code",
   "execution_count": 12,
   "id": "56fede80-138c-4c05-bd28-09f881dc894a",
   "metadata": {},
   "outputs": [
    {
     "data": {
      "text/plain": [
       "{'$and': [{'time_stamp': {'$gte': 1718868000.0}},\n",
       "  {'time_stamp': {'$lte': 1718869200.0}}]}"
      ]
     },
     "execution_count": 12,
     "metadata": {},
     "output_type": "execute_result"
    }
   ],
   "source": [
    "filter_query"
   ]
  },
  {
   "cell_type": "code",
   "execution_count": null,
   "id": "dcc2a627-49f5-4475-9beb-349cda5d5754",
   "metadata": {},
   "outputs": [],
   "source": []
  },
  {
   "cell_type": "code",
   "execution_count": 13,
   "id": "c904a3a4-e3b7-4598-800f-8ad1f2099c8f",
   "metadata": {},
   "outputs": [
    {
     "name": "stdout",
     "output_type": "stream",
     "text": [
      "0\n"
     ]
    },
    {
     "name": "stderr",
     "output_type": "stream",
     "text": [
      "C:\\Users\\Maria Waheed\\anaconda3\\envs\\llm_2\\lib\\site-packages\\langchain_core\\_api\\deprecation.py:139: LangChainDeprecationWarning: The method `BaseRetriever.get_relevant_documents` was deprecated in langchain-core 0.1.46 and will be removed in 0.3.0. Use invoke instead.\n",
      "  warn_deprecated(\n"
     ]
    }
   ],
   "source": [
    "K=5\n",
    "chroma_retriever = VectorStoreRetriever(vectorstore=vectorstore_load, search_kwargs={\"filter\":filter_query,\"k\":K},)\n",
    "retrieved_docs = chroma_retriever.get_relevant_documents(output_dict[\"output\"][\"info\"])\n",
    "print(len(retrieved_docs))"
   ]
  },
  {
   "cell_type": "code",
   "execution_count": null,
   "id": "292aaff2-e48c-4c9e-a802-34f5ee107a5e",
   "metadata": {},
   "outputs": [],
   "source": []
  },
  {
   "cell_type": "code",
   "execution_count": null,
   "id": "2e57f673-4505-4af0-8c51-f97673a15d72",
   "metadata": {},
   "outputs": [],
   "source": []
  },
  {
   "cell_type": "code",
   "execution_count": 14,
   "id": "5add682d-61b7-4aa5-a9be-18b212df72f5",
   "metadata": {},
   "outputs": [],
   "source": [
    "filtered_results = vectorstore_load.similarity_search(user_input)"
   ]
  },
  {
   "cell_type": "code",
   "execution_count": 18,
   "id": "c8e74991-ff84-4211-ac4d-d0fae56ed56b",
   "metadata": {},
   "outputs": [
    {
     "data": {
      "text/plain": [
       "float"
      ]
     },
     "execution_count": 18,
     "metadata": {},
     "output_type": "execute_result"
    }
   ],
   "source": [
    "type(filtered_results[0].metadata[\"time_stamp\"])"
   ]
  },
  {
   "cell_type": "code",
   "execution_count": 19,
   "id": "71789d67-a131-45e8-8680-d4f5b86ae1c9",
   "metadata": {},
   "outputs": [
    {
     "data": {
      "text/plain": [
       "{'date': '2024-06-20',\n",
       " 'location': 'Imtiaz Supermarket',\n",
       " 'path': \"D:\\\\core9_work\\\\Amir's Land rover AI Enablement\\\\dummy_chromadb\\\\frame_19.jpg\",\n",
       " 'time': '12:05:20',\n",
       " 'time_stamp': 1718867120.0}"
      ]
     },
     "execution_count": 19,
     "metadata": {},
     "output_type": "execute_result"
    }
   ],
   "source": [
    "filtered_results[0].metadata"
   ]
  },
  {
   "cell_type": "code",
   "execution_count": null,
   "id": "a6e84363-7f84-4639-802f-fb1e0d6e3a2a",
   "metadata": {},
   "outputs": [],
   "source": []
  },
  {
   "cell_type": "code",
   "execution_count": null,
   "id": "035a685b-4708-41d2-b5ba-3a2cf7e5c9fc",
   "metadata": {},
   "outputs": [],
   "source": []
  },
  {
   "cell_type": "code",
   "execution_count": 152,
   "id": "7d3d950c-761b-418f-9416-0ed34cabb70f",
   "metadata": {},
   "outputs": [],
   "source": [
    "chosen=\"\"\n",
    "for i in range(len(retrieved_docs)):\n",
    "    if str(filtered_results[0].metadata[\"path\"])==str(retrieved_docs[i].metadata[\"path\"]):\n",
    "        chosen=filtered_results[0].metadata[\"path\"]"
   ]
  },
  {
   "cell_type": "code",
   "execution_count": null,
   "id": "80b9d24e-b9c9-4ebe-9655-23af68865a91",
   "metadata": {},
   "outputs": [],
   "source": []
  },
  {
   "cell_type": "code",
   "execution_count": 153,
   "id": "f25634cd-7fd0-48a5-be1b-4563bd79466e",
   "metadata": {},
   "outputs": [
    {
     "data": {
      "text/plain": [
       "\"D:\\\\core9_work\\\\Amir's Land rover AI Enablement\\\\dummy_chromadb\\\\frame_26.jpg\""
      ]
     },
     "execution_count": 153,
     "metadata": {},
     "output_type": "execute_result"
    }
   ],
   "source": [
    "chosen"
   ]
  },
  {
   "cell_type": "code",
   "execution_count": null,
   "id": "d0e1830c-6024-4d5a-87e5-a852a40662d1",
   "metadata": {},
   "outputs": [],
   "source": []
  },
  {
   "cell_type": "code",
   "execution_count": null,
   "id": "433a9ef3-63a3-4f84-a139-b8e9bc412b49",
   "metadata": {},
   "outputs": [],
   "source": []
  },
  {
   "cell_type": "code",
   "execution_count": null,
   "id": "04cb0c7c-3a03-4506-aa5c-29fa9706afca",
   "metadata": {},
   "outputs": [],
   "source": []
  },
  {
   "cell_type": "code",
   "execution_count": 90,
   "id": "5d2fae43-a78a-4a61-828e-9cc1691c15c5",
   "metadata": {},
   "outputs": [],
   "source": [
    "llm_model = \"gpt-4o\"\n",
    "chat = ChatOpenAI(temperature=0.7, model=llm_model,api_key=openai.api_key)"
   ]
  },
  {
   "cell_type": "code",
   "execution_count": null,
   "id": "c4717822-0007-4e4a-8abd-006c00cdff2b",
   "metadata": {},
   "outputs": [],
   "source": []
  },
  {
   "cell_type": "code",
   "execution_count": null,
   "id": "1cfd1bc0-c05a-4351-a20b-f488209747d3",
   "metadata": {},
   "outputs": [],
   "source": []
  },
  {
   "cell_type": "code",
   "execution_count": 22,
   "id": "289874d6-7fd9-4a46-a72a-a08269a20afa",
   "metadata": {},
   "outputs": [],
   "source": [
    "#!pip install langchain"
   ]
  },
  {
   "cell_type": "code",
   "execution_count": 24,
   "id": "36015865-0a93-45d5-9abb-1a5ab296b609",
   "metadata": {},
   "outputs": [],
   "source": [
    "from langchain_core.messages import HumanMessage\n",
    "from langchain import OpenAI\n",
    "from langchain.prompts import PromptTemplate\n",
    "import base64\n",
    "\n",
    "model = ChatOpenAI(model=\"gpt-4o\")"
   ]
  },
  {
   "cell_type": "code",
   "execution_count": null,
   "id": "d1507487-6e6b-467b-a07d-77db4a153b6b",
   "metadata": {},
   "outputs": [],
   "source": []
  },
  {
   "cell_type": "code",
   "execution_count": 25,
   "id": "c6fd417c-79a1-46dc-9523-58169ccae43a",
   "metadata": {},
   "outputs": [],
   "source": [
    "image_path=\"D:\\\\core9_work\\\\Amir's Land rover AI Enablement\\\\dummy_chromadb\\\\frame_26.jpg\"\n",
    "with open(image_path,\"rb\") as image_file:\n",
    "    image_data=base64.b64encode(image_file.read()).decode(\"utf=8\")"
   ]
  },
  {
   "cell_type": "code",
   "execution_count": null,
   "id": "565df647-3174-4c7f-b63f-d14159d6500c",
   "metadata": {},
   "outputs": [],
   "source": []
  },
  {
   "cell_type": "code",
   "execution_count": 29,
   "id": "c8c9e0bb-af79-471c-82bd-e6f8fabd70f4",
   "metadata": {},
   "outputs": [
    {
     "name": "stdout",
     "output_type": "stream",
     "text": [
      "The image depicts a scene of a multi-lane highway with light traffic. There are a few vehicles visible on the road, including a car in the middle lane and a truck further ahead. The highway is flanked by trees on both sides, and the weather appears to be clear with good visibility. The road is divided by white lane markings, and there are streetlights along the median. An overhead structure, possibly an overpass or sign frame, is visible at the top of the image. The overall impression is of a calm and orderly drive on a well-maintained highway.\n"
     ]
    }
   ],
   "source": [
    "content_prompt=\"Describe what is going in the image\"\n",
    "message=HumanMessage(\n",
    "    content=[\n",
    "        {\"type\":\"text\",\"text\":content_prompt},\n",
    "        {\n",
    "            \"type\":\"image_url\",\n",
    "            \"image_url\":{\"url\":f\"data:image/jpeg;base64,{image_data}\"},\n",
    "        },\n",
    "    ],\n",
    ")\n",
    "response= model.invoke([message])\n",
    "print(response.content)"
   ]
  },
  {
   "cell_type": "code",
   "execution_count": null,
   "id": "428c05fe-f32a-47cc-a994-7579f8c740a2",
   "metadata": {},
   "outputs": [],
   "source": []
  },
  {
   "cell_type": "code",
   "execution_count": null,
   "id": "bd2e7a41-2d31-4f89-b58e-4e8debc4327b",
   "metadata": {},
   "outputs": [],
   "source": []
  },
  {
   "cell_type": "code",
   "execution_count": null,
   "id": "7de0b00f-7b16-4555-be9f-246f95af0030",
   "metadata": {},
   "outputs": [],
   "source": []
  },
  {
   "cell_type": "code",
   "execution_count": null,
   "id": "0f6b8ab1-bc94-4439-aa95-57b1e9a875dc",
   "metadata": {},
   "outputs": [],
   "source": []
  },
  {
   "cell_type": "code",
   "execution_count": null,
   "id": "d81c53a7-0559-4f85-afe5-53e9095625c5",
   "metadata": {},
   "outputs": [],
   "source": []
  },
  {
   "cell_type": "code",
   "execution_count": null,
   "id": "0eaa1973-a888-46dd-b22c-766462efc971",
   "metadata": {},
   "outputs": [],
   "source": []
  },
  {
   "cell_type": "code",
   "execution_count": null,
   "id": "51645b17-9f0b-49ef-a929-c9fcaabea55b",
   "metadata": {},
   "outputs": [],
   "source": []
  },
  {
   "cell_type": "code",
   "execution_count": null,
   "id": "f17b274a-3b0b-40c7-ab57-38cc59764490",
   "metadata": {},
   "outputs": [],
   "source": []
  },
  {
   "cell_type": "code",
   "execution_count": null,
   "id": "00122618-009c-4e58-9dbe-d6bca47027b5",
   "metadata": {},
   "outputs": [],
   "source": []
  }
 ],
 "metadata": {
  "kernelspec": {
   "display_name": "llm_2",
   "language": "python",
   "name": "llm_2"
  },
  "language_info": {
   "codemirror_mode": {
    "name": "ipython",
    "version": 3
   },
   "file_extension": ".py",
   "mimetype": "text/x-python",
   "name": "python",
   "nbconvert_exporter": "python",
   "pygments_lexer": "ipython3",
   "version": "3.8.19"
  }
 },
 "nbformat": 4,
 "nbformat_minor": 5
}
