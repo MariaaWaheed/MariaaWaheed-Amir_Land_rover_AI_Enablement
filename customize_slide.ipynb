{
 "cells": [
  {
   "cell_type": "code",
   "execution_count": null,
   "id": "9a9ee2d7-acb5-4664-83c1-f3331546be5f",
   "metadata": {},
   "outputs": [],
   "source": []
  },
  {
   "cell_type": "code",
   "execution_count": null,
   "id": "401ba86d-b24e-4dbe-88ca-d940e45d740c",
   "metadata": {},
   "outputs": [],
   "source": []
  },
  {
   "cell_type": "code",
   "execution_count": 4,
   "id": "2256f920-1c8c-42eb-87e6-2e1715542a90",
   "metadata": {},
   "outputs": [],
   "source": [
    "import cv2\n",
    "import numpy as np\n",
    "import os\n",
    "import shutil\n",
    "\n",
    "n=1\n",
    "def place_text_on_canvas(textboxes,images,filename=f'slide_{n}.jpg'):\n",
    "    # Create a black canvas\n",
    "    canvas_width = 1000\n",
    "    canvas_height = 800\n",
    "    canvas = np.ones((canvas_height, canvas_width, 3), dtype=np.uint8) * 255\n",
    "\n",
    "    \n",
    "    for textbox in textboxes:\n",
    "        text = textbox.get('text', '')\n",
    "        position = textbox.get('position', (0, 0))\n",
    "        size = textbox.get('size', (100, 100))\n",
    "        font_size = textbox.get('font_size', 12)\n",
    "        is_bold = textbox.get('is_bold', False)\n",
    "        \n",
    "        # Choose font\n",
    "        font_face = cv2.FONT_HERSHEY_SIMPLEX\n",
    "        font_scale = font_size / 10.0\n",
    "        \n",
    "        if is_bold:\n",
    "            font_thickness = 2\n",
    "        else:\n",
    "            font_thickness = 1\n",
    "        \n",
    "        (text_width, text_height), baseline = cv2.getTextSize(text, font_face, font_scale, font_thickness)\n",
    "        text_x = int(position[0] + (size[0] - text_width) / 2)\n",
    "        text_y = int(position[1] + (size[1] + text_height) / 2)\n",
    "    \n",
    "        cv2.putText(canvas, text, (text_x, text_y), font_face, font_scale, (0, 0, 0), font_thickness)\n",
    "\n",
    "\n",
    "    for image_info in images:\n",
    "        image_path = image_info.get('image_path', '')\n",
    "        position = image_info.get('position', (0, 0))\n",
    "        size = image_info.get('size', (100, 100))\n",
    "        \n",
    "        # Load image\n",
    "        image = cv2.imread(image_path)\n",
    "        if image is None:\n",
    "            print(f\"Unable to load image from path: {image_path}\")\n",
    "            continue\n",
    "        \n",
    "        image = cv2.resize(image, size)\n",
    "     \n",
    "        x_start, y_start = position\n",
    "        x_end = x_start + size[0]\n",
    "        y_end = y_start + size[1]\n",
    "  \n",
    "        canvas[y_start:y_end, x_start:x_end] = image\n",
    "\n",
    "    # Save the canvas as an image file\n",
    "    cv2.imwrite(filename, canvas)\n",
    "    \n",
    "    # Move the file to the downloads folder\n",
    "    download_folder = os.path.join(os.path.expanduser(\"~\"), \"Downloads\")\n",
    "    shutil.move(filename, os.path.join(download_folder, filename))\n",
    "    global n\n",
    "    n += 1\n",
    "        \n",
    "    cv2.imshow(\"Canvas\", canvas)\n",
    "    cv2.waitKey(0)\n",
    "    cv2.destroyAllWindows()\n",
    "\n",
    "\n",
    "\n",
    "\n",
    "# Example usage:\n",
    "textboxes = [\n",
    "    {'text': 'Hello', 'position': (50, 50), 'size': (200, 50), 'font_size': 20, 'is_bold': True},\n",
    "    {'text': 'World', 'position': (300, 50), 'size': (150, 50), 'font_size': 30, 'is_bold': False}\n",
    "]\n",
    "images = [\n",
    "    {'image_path': 'C:\\\\Users\\\\Maira Waheed\\\\Downloads\\\\1717243160044.jpeg', 'position': (200, 200), 'size': (500, 500)},\n",
    "]\n",
    "\n",
    "place_text_on_canvas(textboxes,images)"
   ]
  },
  {
   "cell_type": "code",
   "execution_count": null,
   "id": "a0676748-95ba-4096-a804-49cddb0ca820",
   "metadata": {},
   "outputs": [],
   "source": []
  },
  {
   "cell_type": "code",
   "execution_count": null,
   "id": "4d7ae9fa-d48d-48e8-b3de-299b675a2ec3",
   "metadata": {},
   "outputs": [],
   "source": []
  },
  {
   "cell_type": "code",
   "execution_count": null,
   "id": "48c92280-5c05-4e32-ade5-ac2d04c8ca9e",
   "metadata": {},
   "outputs": [],
   "source": []
  },
  {
   "cell_type": "code",
   "execution_count": null,
   "id": "c0f178f1-a4b4-43aa-9e0b-675909b06c89",
   "metadata": {},
   "outputs": [],
   "source": []
  },
  {
   "cell_type": "code",
   "execution_count": null,
   "id": "923d9bfa-1e2d-407c-ae9a-dd094cb47e70",
   "metadata": {},
   "outputs": [],
   "source": []
  },
  {
   "cell_type": "code",
   "execution_count": null,
   "id": "18ae5e8c-a104-49e2-9741-c181b44c0f2b",
   "metadata": {},
   "outputs": [],
   "source": []
  },
  {
   "cell_type": "code",
   "execution_count": null,
   "id": "c97d5543-bd82-459b-b47d-6838861e3eca",
   "metadata": {},
   "outputs": [],
   "source": []
  },
  {
   "cell_type": "code",
   "execution_count": null,
   "id": "d126eb88-bcd7-4c4e-b199-e1a78b3aa34d",
   "metadata": {},
   "outputs": [],
   "source": []
  },
  {
   "cell_type": "code",
   "execution_count": null,
   "id": "bcd61146-ce54-47fd-9fa3-c4ef99702fbe",
   "metadata": {},
   "outputs": [],
   "source": []
  },
  {
   "cell_type": "code",
   "execution_count": null,
   "id": "fb4791f4-8a5f-465b-91d0-24228208d081",
   "metadata": {},
   "outputs": [],
   "source": []
  },
  {
   "cell_type": "code",
   "execution_count": null,
   "id": "f977fce7-5939-4148-89af-0c35bed450b5",
   "metadata": {},
   "outputs": [],
   "source": []
  },
  {
   "cell_type": "code",
   "execution_count": null,
   "id": "34aab1ed-a413-414f-9351-f29522bad0d4",
   "metadata": {},
   "outputs": [],
   "source": []
  },
  {
   "cell_type": "code",
   "execution_count": null,
   "id": "2373a62a-e4fd-4a94-9682-ae5ec4bc8ca6",
   "metadata": {},
   "outputs": [],
   "source": []
  },
  {
   "cell_type": "code",
   "execution_count": null,
   "id": "f47a7b7b-dc81-4ec3-9c02-78bf937612c1",
   "metadata": {},
   "outputs": [],
   "source": []
  },
  {
   "cell_type": "code",
   "execution_count": null,
   "id": "97f8e679-5eec-4b07-8ed2-30d5a15d6b51",
   "metadata": {},
   "outputs": [],
   "source": []
  }
 ],
 "metadata": {
  "kernelspec": {
   "display_name": "llm_2",
   "language": "python",
   "name": "llm_2"
  },
  "language_info": {
   "codemirror_mode": {
    "name": "ipython",
    "version": 3
   },
   "file_extension": ".py",
   "mimetype": "text/x-python",
   "name": "python",
   "nbconvert_exporter": "python",
   "pygments_lexer": "ipython3",
   "version": "3.8.19"
  }
 },
 "nbformat": 4,
 "nbformat_minor": 5
}
